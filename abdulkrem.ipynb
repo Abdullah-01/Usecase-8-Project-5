{
 "cells": [
  {
   "cell_type": "code",
   "execution_count": 1,
   "id": "f76d1e17-7eab-4164-8636-614c2952c421",
   "metadata": {},
   "outputs": [],
   "source": [
    "import numpy as np\n",
    "import pandas as pd"
   ]
  },
  {
   "cell_type": "code",
   "execution_count": 2,
   "id": "7c065c36-6426-4615-a6a2-36d5b4fb1fd7",
   "metadata": {},
   "outputs": [],
   "source": [
    "df = pd.read_csv('golden_scent_perfumes2.csv')"
   ]
  },
  {
   "cell_type": "code",
   "execution_count": 158,
   "id": "a27a75bf-2a17-44a7-9d12-e99bb07a2e1c",
   "metadata": {},
   "outputs": [
    {
     "data": {
      "text/html": [
       "<div>\n",
       "<style scoped>\n",
       "    .dataframe tbody tr th:only-of-type {\n",
       "        vertical-align: middle;\n",
       "    }\n",
       "\n",
       "    .dataframe tbody tr th {\n",
       "        vertical-align: top;\n",
       "    }\n",
       "\n",
       "    .dataframe thead th {\n",
       "        text-align: right;\n",
       "    }\n",
       "</style>\n",
       "<table border=\"1\" class=\"dataframe\">\n",
       "  <thead>\n",
       "    <tr style=\"text-align: right;\">\n",
       "      <th></th>\n",
       "      <th>الاسم</th>\n",
       "      <th>السعر النهائي</th>\n",
       "      <th>الماركة</th>\n",
       "      <th>الجنس</th>\n",
       "      <th>شخصية عطرك</th>\n",
       "      <th>العائلة العطرية</th>\n",
       "      <th>الحجم</th>\n",
       "      <th>نسبة التركيز</th>\n",
       "      <th>مقدمة العطر</th>\n",
       "      <th>قلب العطر</th>\n",
       "      <th>قاعدة العطر</th>\n",
       "      <th>المكونات</th>\n",
       "    </tr>\n",
       "  </thead>\n",
       "  <tbody>\n",
       "    <tr>\n",
       "      <th>0</th>\n",
       "      <td>كورلوف كوير ميثيك أو دو برفيوم</td>\n",
       "      <td>1116</td>\n",
       "      <td>كورلوف</td>\n",
       "      <td>3</td>\n",
       "      <td>17</td>\n",
       "      <td>10</td>\n",
       "      <td>100 مل</td>\n",
       "      <td>1</td>\n",
       "      <td>[الماندرين, الصنوبر, العرعر]</td>\n",
       "      <td>[الزنجبيل, الجلابانوم, السوسن]</td>\n",
       "      <td>[الجلود]</td>\n",
       "      <td>[الجلود, الزنجبيل, الجلابانوم, السوسن, الماندر...</td>\n",
       "    </tr>\n",
       "    <tr>\n",
       "      <th>1</th>\n",
       "      <td>كالفين كلاين ايفوريا ومن</td>\n",
       "      <td>298</td>\n",
       "      <td>كالفن كلاين</td>\n",
       "      <td>4</td>\n",
       "      <td>11</td>\n",
       "      <td>36</td>\n",
       "      <td>50 مل</td>\n",
       "      <td>1</td>\n",
       "      <td>[رمان]</td>\n",
       "      <td>[لوتس بلوسوم, بلاك أوركيد]</td>\n",
       "      <td>[عنبر, خشب]</td>\n",
       "      <td>[رمان, لوتس بلوسوم, بلاك أوركيد, عنبر, خشب]</td>\n",
       "    </tr>\n",
       "  </tbody>\n",
       "</table>\n",
       "</div>"
      ],
      "text/plain": [
       "                            الاسم  السعر النهائي      الماركة  الجنس  \\\n",
       "0  كورلوف كوير ميثيك أو دو برفيوم           1116       كورلوف      3   \n",
       "1        كالفين كلاين ايفوريا ومن            298  كالفن كلاين      4   \n",
       "\n",
       "   شخصية عطرك  العائلة العطرية   الحجم  نسبة التركيز  \\\n",
       "0          17               10  100 مل             1   \n",
       "1          11               36   50 مل             1   \n",
       "\n",
       "                    مقدمة العطر                       قلب العطر  قاعدة العطر  \\\n",
       "0  [الماندرين, الصنوبر, العرعر]  [الزنجبيل, الجلابانوم, السوسن]     [الجلود]   \n",
       "1                        [رمان]      [لوتس بلوسوم, بلاك أوركيد]  [عنبر, خشب]   \n",
       "\n",
       "                                            المكونات  \n",
       "0  [الجلود, الزنجبيل, الجلابانوم, السوسن, الماندر...  \n",
       "1        [رمان, لوتس بلوسوم, بلاك أوركيد, عنبر, خشب]  "
      ]
     },
     "execution_count": 158,
     "metadata": {},
     "output_type": "execute_result"
    }
   ],
   "source": [
    "df.head(2)"
   ]
  },
  {
   "cell_type": "code",
   "execution_count": 4,
   "id": "4faf4d49-7a20-4c4b-8d4b-974b7afbbbaf",
   "metadata": {},
   "outputs": [
    {
     "data": {
      "text/plain": [
       "(8144, 22)"
      ]
     },
     "execution_count": 4,
     "metadata": {},
     "output_type": "execute_result"
    }
   ],
   "source": [
    "df.shape#.sort_values(ascending = False)"
   ]
  },
  {
   "cell_type": "code",
   "execution_count": 5,
   "id": "114d01da-ab0a-44d4-ac3f-fdc8c54aca31",
   "metadata": {},
   "outputs": [],
   "source": [
    "df['الجنس'].fillna('لا توجد معلومات', inplace=True)"
   ]
  },
  {
   "cell_type": "code",
   "execution_count": 6,
   "id": "56e1e531-e658-40f3-b89d-39e486486e21",
   "metadata": {},
   "outputs": [],
   "source": [
    "df['شخصية عطرك'].fillna('لا توجد معلومات', inplace=True)"
   ]
  },
  {
   "cell_type": "code",
   "execution_count": 7,
   "id": "034cd200-1f6b-424a-9b53-80d28d7d712e",
   "metadata": {},
   "outputs": [],
   "source": [
    "df['العائلة العطرية'].fillna('لا توجد معلومات', inplace=True)"
   ]
  },
  {
   "cell_type": "code",
   "execution_count": 8,
   "id": "25e2c126-dca0-4542-a528-263822030fe2",
   "metadata": {},
   "outputs": [],
   "source": [
    "df['نسبة التركيز'].fillna('لا توجد معلومات', inplace=True)"
   ]
  },
  {
   "cell_type": "code",
   "execution_count": 9,
   "id": "c8bf73a5-93ac-42c8-8c21-0a2005801568",
   "metadata": {},
   "outputs": [],
   "source": [
    "df = df[df['نوع المنتج'] == 'عطور']"
   ]
  },
  {
   "cell_type": "code",
   "execution_count": 10,
   "id": "b0f1dec5-1ee0-4f91-a338-2a4a551dd447",
   "metadata": {},
   "outputs": [],
   "source": [
    "#################################################################################"
   ]
  },
  {
   "cell_type": "code",
   "execution_count": 11,
   "id": "6832333b-4701-40cc-be79-1d327093a6e0",
   "metadata": {},
   "outputs": [],
   "source": [
    "df.drop('نوع المنتج', axis = 1, inplace = True)"
   ]
  },
  {
   "cell_type": "code",
   "execution_count": 12,
   "id": "e71dc8a3-b8a1-4f91-8b3d-b9085059c7f5",
   "metadata": {},
   "outputs": [],
   "source": [
    "df.drop('سنة الإصدار', axis = 1, inplace = True)"
   ]
  },
  {
   "cell_type": "code",
   "execution_count": 13,
   "id": "1254ccbf-e052-4dfc-aa7b-cb2d463a0bfe",
   "metadata": {},
   "outputs": [],
   "source": [
    "df.drop('اللون', axis = 1, inplace = True)"
   ]
  },
  {
   "cell_type": "code",
   "execution_count": 14,
   "id": "c71ec927-0360-42d3-985e-d70c2b412982",
   "metadata": {},
   "outputs": [],
   "source": [
    "df.drop('Category', axis = 1, inplace = True)"
   ]
  },
  {
   "cell_type": "code",
   "execution_count": 15,
   "id": "dc22da7f-20d0-4e05-8fec-dae18de2f865",
   "metadata": {},
   "outputs": [],
   "source": [
    "df.drop('النوتات العُليا', axis = 1, inplace = True)"
   ]
  },
  {
   "cell_type": "code",
   "execution_count": 16,
   "id": "be377915-c688-4952-8252-ca59affe8350",
   "metadata": {},
   "outputs": [],
   "source": [
    "df.drop('النوتات المتوسطة', axis = 1, inplace = True)"
   ]
  },
  {
   "cell_type": "code",
   "execution_count": 17,
   "id": "82737ccc-abf1-4958-bf3c-1958c2ae2d5b",
   "metadata": {},
   "outputs": [],
   "source": [
    "df.drop('النوتات القاعدية', axis = 1, inplace = True)"
   ]
  },
  {
   "cell_type": "code",
   "execution_count": 18,
   "id": "ad659d62-96be-4013-a47d-e14d0b2ee8da",
   "metadata": {},
   "outputs": [],
   "source": [
    "df.drop('التركيبة', axis = 1, inplace = True)"
   ]
  },
  {
   "cell_type": "code",
   "execution_count": 19,
   "id": "7f935356-a217-4885-8c3e-4ad416c1a515",
   "metadata": {},
   "outputs": [],
   "source": [
    "df.drop('نوع المكياج', axis = 1, inplace = True)"
   ]
  },
  {
   "cell_type": "code",
   "execution_count": 20,
   "id": "6abc3a19-c732-4353-9159-b195d00bd4ca",
   "metadata": {},
   "outputs": [],
   "source": [
    "df.drop('مفتاح البحث', axis = 1, inplace = True)"
   ]
  },
  {
   "cell_type": "code",
   "execution_count": 21,
   "id": "a59123e8-32b5-4ce8-8b7a-6c75cc43437d",
   "metadata": {},
   "outputs": [],
   "source": [
    "#################################################################################"
   ]
  },
  {
   "cell_type": "code",
   "execution_count": 22,
   "id": "66dc0c6e-0131-4b89-815e-687425db09de",
   "metadata": {},
   "outputs": [],
   "source": [
    "df = df.reset_index(drop=True)"
   ]
  },
  {
   "cell_type": "code",
   "execution_count": 23,
   "id": "a989a089-76c6-4ec2-9036-b80a49c4abfa",
   "metadata": {},
   "outputs": [
    {
     "data": {
      "text/html": [
       "<div>\n",
       "<style scoped>\n",
       "    .dataframe tbody tr th:only-of-type {\n",
       "        vertical-align: middle;\n",
       "    }\n",
       "\n",
       "    .dataframe tbody tr th {\n",
       "        vertical-align: top;\n",
       "    }\n",
       "\n",
       "    .dataframe thead th {\n",
       "        text-align: right;\n",
       "    }\n",
       "</style>\n",
       "<table border=\"1\" class=\"dataframe\">\n",
       "  <thead>\n",
       "    <tr style=\"text-align: right;\">\n",
       "      <th></th>\n",
       "      <th>الاسم</th>\n",
       "      <th>السعر النهائي</th>\n",
       "      <th>الماركة</th>\n",
       "      <th>الجنس</th>\n",
       "      <th>شخصية عطرك</th>\n",
       "      <th>العائلة العطرية</th>\n",
       "      <th>الحجم</th>\n",
       "      <th>نسبة التركيز</th>\n",
       "      <th>مقدمة العطر</th>\n",
       "      <th>قلب العطر</th>\n",
       "      <th>قاعدة العطر</th>\n",
       "      <th>المكونات</th>\n",
       "    </tr>\n",
       "  </thead>\n",
       "  <tbody>\n",
       "    <tr>\n",
       "      <th>0</th>\n",
       "      <td>كورلوف كوير ميثيك أو دو برفيوم</td>\n",
       "      <td>1116</td>\n",
       "      <td>كورلوف</td>\n",
       "      <td>رجالي/نسائي</td>\n",
       "      <td>كلاسيكية</td>\n",
       "      <td>جلدية</td>\n",
       "      <td>100 مل</td>\n",
       "      <td>أو دو برفيوم</td>\n",
       "      <td>الماندرين، الصنوبر، العرعر</td>\n",
       "      <td>الزنجبيل، الجلابانوم، السوسن</td>\n",
       "      <td>الجلود</td>\n",
       "      <td>NaN</td>\n",
       "    </tr>\n",
       "    <tr>\n",
       "      <th>1</th>\n",
       "      <td>كالفين كلاين ايفوريا ومن</td>\n",
       "      <td>298</td>\n",
       "      <td>كالفن كلاين</td>\n",
       "      <td>نسائي</td>\n",
       "      <td>حيوية</td>\n",
       "      <td>فاكهية</td>\n",
       "      <td>50 مل</td>\n",
       "      <td>أو دو برفيوم</td>\n",
       "      <td>رمان</td>\n",
       "      <td>لوتس بلوسوم ، بلاك أوركيد</td>\n",
       "      <td>عنبر ، خشب</td>\n",
       "      <td>رمان ، لوتس بلوسوم ، بلاك أوركيد ، عنبر ، خشب</td>\n",
       "    </tr>\n",
       "  </tbody>\n",
       "</table>\n",
       "</div>"
      ],
      "text/plain": [
       "                            الاسم  السعر النهائي      الماركة        الجنس  \\\n",
       "0  كورلوف كوير ميثيك أو دو برفيوم           1116       كورلوف  رجالي/نسائي   \n",
       "1        كالفين كلاين ايفوريا ومن            298  كالفن كلاين        نسائي   \n",
       "\n",
       "  شخصية عطرك العائلة العطرية   الحجم  نسبة التركيز  \\\n",
       "0   كلاسيكية           جلدية  100 مل  أو دو برفيوم   \n",
       "1      حيوية          فاكهية   50 مل  أو دو برفيوم   \n",
       "\n",
       "                  مقدمة العطر                     قلب العطر قاعدة العطر  \\\n",
       "0  الماندرين، الصنوبر، العرعر  الزنجبيل، الجلابانوم، السوسن      الجلود   \n",
       "1                        رمان     لوتس بلوسوم ، بلاك أوركيد  عنبر ، خشب   \n",
       "\n",
       "                                        المكونات  \n",
       "0                                            NaN  \n",
       "1  رمان ، لوتس بلوسوم ، بلاك أوركيد ، عنبر ، خشب  "
      ]
     },
     "execution_count": 23,
     "metadata": {},
     "output_type": "execute_result"
    }
   ],
   "source": [
    "df.head(2)"
   ]
  },
  {
   "cell_type": "code",
   "execution_count": 24,
   "id": "a274090c-a86c-4385-8302-2436aa1b85e1",
   "metadata": {},
   "outputs": [],
   "source": [
    "#################################################################################"
   ]
  },
  {
   "cell_type": "code",
   "execution_count": 25,
   "id": "05d63ce8-ceb8-4b2b-9f39-dd43eacda8ef",
   "metadata": {},
   "outputs": [],
   "source": [
    "gender = {}"
   ]
  },
  {
   "cell_type": "code",
   "execution_count": 26,
   "id": "9b7e7ee5-f112-4dca-91e8-d8e4877343a9",
   "metadata": {},
   "outputs": [],
   "source": [
    "counter = 1"
   ]
  },
  {
   "cell_type": "code",
   "execution_count": 27,
   "id": "7a6013f0-ed31-43b0-9836-f5d08ec804c3",
   "metadata": {},
   "outputs": [],
   "source": [
    "for b in df.groupby(by = 'الجنس').size().index:\n",
    "    if b == 'لا توجد معلومات':\n",
    "            gender['لا توجد معلومات'] = 0\n",
    "    else:\n",
    "        gender[b] = counter\n",
    "        counter = counter + 1"
   ]
  },
  {
   "cell_type": "code",
   "execution_count": 28,
   "id": "3b22b164-8d13-49fc-bd44-79823c0f66e8",
   "metadata": {},
   "outputs": [],
   "source": [
    "gender = dict(sorted(gender.items(), key=lambda x:x[1]))"
   ]
  },
  {
   "cell_type": "code",
   "execution_count": 29,
   "id": "b7a1a081-f2fd-472a-bf15-bfd34d139ac8",
   "metadata": {},
   "outputs": [],
   "source": [
    "for first_key, first_item in gender.items():\n",
    "        df.loc[df['الجنس'] == first_key, 'الجنس'] = first_item"
   ]
  },
  {
   "cell_type": "code",
   "execution_count": 30,
   "id": "62288988-fd5b-48d9-9b28-4933e5c23d53",
   "metadata": {},
   "outputs": [],
   "source": [
    "df = df.astype({ \"الجنس\" : \"int64\" })"
   ]
  },
  {
   "cell_type": "code",
   "execution_count": 31,
   "id": "158b772a-688c-470c-9d7e-e4bb126b445a",
   "metadata": {},
   "outputs": [],
   "source": [
    "#################################################################################"
   ]
  },
  {
   "cell_type": "code",
   "execution_count": 32,
   "id": "4dbeb282-4112-4435-bb05-d1925ea6e5e8",
   "metadata": {},
   "outputs": [],
   "source": [
    "character = {}"
   ]
  },
  {
   "cell_type": "code",
   "execution_count": 33,
   "id": "53a04f00-8ee1-46eb-83c2-727722a2da5f",
   "metadata": {},
   "outputs": [],
   "source": [
    "counter = 1"
   ]
  },
  {
   "cell_type": "code",
   "execution_count": 34,
   "id": "6d1c9a85-2a69-4bca-97f0-3b015e00608e",
   "metadata": {},
   "outputs": [],
   "source": [
    "for b in df.groupby(by = 'شخصية عطرك').size().index:\n",
    "    if b == 'لا توجد معلومات':\n",
    "            character['لا توجد معلومات'] = 0\n",
    "    else:\n",
    "        character[b] = counter\n",
    "        counter = counter + 1"
   ]
  },
  {
   "cell_type": "code",
   "execution_count": 35,
   "id": "e0e5b9af-49ad-4fa1-adb2-bac85b6fc955",
   "metadata": {},
   "outputs": [],
   "source": [
    "character = dict(sorted(character.items(), key=lambda x:x[1]))"
   ]
  },
  {
   "cell_type": "code",
   "execution_count": 36,
   "id": "3218dccc-30c0-4d1f-aa8d-5f9dab2cf9bd",
   "metadata": {},
   "outputs": [],
   "source": [
    "for first_key, first_item in character.items():\n",
    "        df.loc[df['شخصية عطرك'] == first_key, 'شخصية عطرك'] = first_item"
   ]
  },
  {
   "cell_type": "code",
   "execution_count": 37,
   "id": "cb44eb6c-83ec-4494-90b9-7f5b5c7cae83",
   "metadata": {},
   "outputs": [],
   "source": [
    "df = df.astype({ \"شخصية عطرك\" : \"int64\" })"
   ]
  },
  {
   "cell_type": "code",
   "execution_count": 38,
   "id": "0af374f7-8f90-40e5-b6ad-d9279baa0fa5",
   "metadata": {},
   "outputs": [],
   "source": [
    "#################################################################################"
   ]
  },
  {
   "cell_type": "code",
   "execution_count": 39,
   "id": "1bca14b4-72a8-4dab-9cbf-664f6d931eee",
   "metadata": {},
   "outputs": [],
   "source": [
    "family = {}"
   ]
  },
  {
   "cell_type": "code",
   "execution_count": 40,
   "id": "cab0a76c-e2d4-4e64-bc02-a496d540df1d",
   "metadata": {},
   "outputs": [],
   "source": [
    "counter = 1"
   ]
  },
  {
   "cell_type": "code",
   "execution_count": 41,
   "id": "d4eef656-3834-4bd2-bd61-dd0154229fd9",
   "metadata": {},
   "outputs": [],
   "source": [
    "for b in df.groupby(by = 'العائلة العطرية').size().index:\n",
    "    if b == 'لا توجد معلومات':\n",
    "            family['لا توجد معلومات'] = 0\n",
    "    else:\n",
    "        family[b] = counter\n",
    "        counter = counter + 1"
   ]
  },
  {
   "cell_type": "code",
   "execution_count": 42,
   "id": "1849fcb5-39d7-412b-b368-3676615ae879",
   "metadata": {},
   "outputs": [],
   "source": [
    "family = dict(sorted(family.items(), key=lambda x:x[1]))"
   ]
  },
  {
   "cell_type": "code",
   "execution_count": 43,
   "id": "d688757c-f5e9-45a7-9814-92a1dd7ce01b",
   "metadata": {},
   "outputs": [],
   "source": [
    "for first_key, first_item in family.items():\n",
    "        df.loc[df['العائلة العطرية'] == first_key, 'العائلة العطرية'] = first_item"
   ]
  },
  {
   "cell_type": "code",
   "execution_count": 44,
   "id": "5594bcc3-3853-4549-8de0-4b2cb85038e1",
   "metadata": {},
   "outputs": [],
   "source": [
    "df = df.astype({ \"العائلة العطرية\" : \"int64\" })"
   ]
  },
  {
   "cell_type": "code",
   "execution_count": 45,
   "id": "a0175988-ca8c-44ad-ad53-91b7b3bce581",
   "metadata": {},
   "outputs": [],
   "source": [
    "#################################################################################"
   ]
  },
  {
   "cell_type": "code",
   "execution_count": 46,
   "id": "9f901c10-a738-4f28-b38f-4dc67116bafc",
   "metadata": {},
   "outputs": [],
   "source": [
    "percentage = {}"
   ]
  },
  {
   "cell_type": "code",
   "execution_count": 47,
   "id": "0b556c94-d657-4308-935f-1d303bdf9f77",
   "metadata": {},
   "outputs": [],
   "source": [
    "counter = 1"
   ]
  },
  {
   "cell_type": "code",
   "execution_count": 48,
   "id": "552b5064-a949-482a-80ea-f1180c79cde4",
   "metadata": {},
   "outputs": [],
   "source": [
    "for b in df.groupby(by = 'نسبة التركيز').size().index:\n",
    "    if b == 'لا توجد معلومات':\n",
    "            percentage['لا توجد معلومات'] = 0\n",
    "    else:\n",
    "        percentage[b] = counter\n",
    "        counter = counter + 1"
   ]
  },
  {
   "cell_type": "code",
   "execution_count": 49,
   "id": "52cc5111-8baa-417c-9b99-9353d086e70b",
   "metadata": {},
   "outputs": [],
   "source": [
    "percentage = dict(sorted(percentage.items(), key=lambda x:x[1]))"
   ]
  },
  {
   "cell_type": "code",
   "execution_count": 50,
   "id": "d7266f94-3445-427e-ac56-b6c8d04f1c2d",
   "metadata": {},
   "outputs": [],
   "source": [
    "for first_key, first_item in percentage.items():\n",
    "        df.loc[df['نسبة التركيز'] == first_key, 'نسبة التركيز'] = first_item"
   ]
  },
  {
   "cell_type": "code",
   "execution_count": 51,
   "id": "403f8cb6-9209-4cf3-b4fa-5ab67a8ca0ea",
   "metadata": {},
   "outputs": [],
   "source": [
    "df = df.astype({ \"نسبة التركيز\" : \"int64\" })"
   ]
  },
  {
   "cell_type": "code",
   "execution_count": 52,
   "id": "9cc589e5-6e1b-4bf1-ba0f-dd51b7986ae5",
   "metadata": {},
   "outputs": [],
   "source": [
    "#################################################################################"
   ]
  },
  {
   "cell_type": "code",
   "execution_count": 53,
   "id": "4d0e8ccb-c80e-4391-8144-7e407bcc3e7e",
   "metadata": {},
   "outputs": [
    {
     "name": "stdout",
     "output_type": "stream",
     "text": [
      "<class 'pandas.core.frame.DataFrame'>\n",
      "RangeIndex: 8143 entries, 0 to 8142\n",
      "Data columns (total 12 columns):\n",
      " #   Column           Non-Null Count  Dtype \n",
      "---  ------           --------------  ----- \n",
      " 0   الاسم            8143 non-null   object\n",
      " 1   السعر النهائي    8143 non-null   int64 \n",
      " 2   الماركة          8135 non-null   object\n",
      " 3   الجنس            8143 non-null   int64 \n",
      " 4   شخصية عطرك       8143 non-null   int64 \n",
      " 5   العائلة العطرية  8143 non-null   int64 \n",
      " 6   الحجم            8125 non-null   object\n",
      " 7   نسبة التركيز     8143 non-null   int64 \n",
      " 8   مقدمة العطر      6170 non-null   object\n",
      " 9   قلب العطر        6114 non-null   object\n",
      " 10  قاعدة العطر      6116 non-null   object\n",
      " 11  المكونات         4552 non-null   object\n",
      "dtypes: int64(5), object(7)\n",
      "memory usage: 763.5+ KB\n"
     ]
    }
   ],
   "source": [
    "df.info()"
   ]
  },
  {
   "cell_type": "code",
   "execution_count": 54,
   "id": "14a9e9bf-041e-42a6-b5e2-d73f69d3cb3d",
   "metadata": {},
   "outputs": [],
   "source": [
    "#################################################################################"
   ]
  },
  {
   "cell_type": "code",
   "execution_count": 55,
   "id": "6f6c7888-b3ad-4c0d-94b9-c5afe188c779",
   "metadata": {},
   "outputs": [],
   "source": [
    "def toLi(x):\n",
    "    col = 'مقدمة العطر'\n",
    "    if not pd.isna(x[col]):\n",
    "        x[col].replace('.', '')\n",
    "        if '،' in x[col]:\n",
    "            x = x[col].split('،')\n",
    "            a = []\n",
    "            for i in x:\n",
    "                if not i == '':\n",
    "                    if i[0] == ' ':\n",
    "                        i = i[1:]\n",
    "                if not i == '':\n",
    "                    if i[-1] == ' ':\n",
    "                        i = i[:-1]\n",
    "                    a.append(i)\n",
    "            return a\n",
    "        elif ',' in x[col]:\n",
    "            x = x[col].split(',')\n",
    "            a = []\n",
    "            for i in x:\n",
    "                if not i == '':\n",
    "                    if i[0] == ' ':\n",
    "                        i = i[1:]\n",
    "                if not i == '':\n",
    "                    if i[-1] == ' ':\n",
    "                        i = i[:-1]\n",
    "                    a.append(i)\n",
    "            return a\n",
    "        else:\n",
    "            x = x[col].split()\n",
    "            a = []\n",
    "            for i in x:\n",
    "                if not i == '':\n",
    "                    if i[0] == ' ':\n",
    "                        i = i[1:]\n",
    "                if not i == '':\n",
    "                    if i[-1] == ' ':\n",
    "                        i = i[:-1]\n",
    "                    a.append(i)\n",
    "            return a\n",
    "    else:\n",
    "        return x[col]"
   ]
  },
  {
   "cell_type": "code",
   "execution_count": 56,
   "id": "f8263084-f982-48c0-bc6d-1522eabc96ef",
   "metadata": {
    "scrolled": true
   },
   "outputs": [],
   "source": [
    "df['مقدمة العطر'] = df.apply(toLi, axis=1)"
   ]
  },
  {
   "cell_type": "code",
   "execution_count": 57,
   "id": "956bb7b7-280a-45fc-a9bb-ed3034b7eeae",
   "metadata": {},
   "outputs": [],
   "source": [
    "#################################################################################"
   ]
  },
  {
   "cell_type": "code",
   "execution_count": 58,
   "id": "0c788f63-ac9b-4490-835b-84970d0672ca",
   "metadata": {},
   "outputs": [],
   "source": [
    "def toLi(x):\n",
    "    col = 'قلب العطر'\n",
    "    if not pd.isna(x[col]):\n",
    "        x[col].replace('.', '')\n",
    "        if '،' in x[col]:\n",
    "            x = x[col].split('،')\n",
    "            a = []\n",
    "            for i in x:\n",
    "                if not i == '':\n",
    "                    if i[0] == ' ':\n",
    "                        i = i[1:]\n",
    "                if not i == '':\n",
    "                    if i[-1] == ' ':\n",
    "                        i = i[:-1]\n",
    "                    a.append(i)\n",
    "            return a\n",
    "        elif ',' in x[col]:\n",
    "            x = x[col].split(',')\n",
    "            a = []\n",
    "            for i in x:\n",
    "                if not i == '':\n",
    "                    if i[0] == ' ':\n",
    "                        i = i[1:]\n",
    "                if not i == '':\n",
    "                    if i[-1] == ' ':\n",
    "                        i = i[:-1]\n",
    "                    a.append(i)\n",
    "            return a\n",
    "        else:\n",
    "            x = x[col].split()\n",
    "            a = []\n",
    "            for i in x:\n",
    "                if not i == '':\n",
    "                    if i[0] == ' ':\n",
    "                        i = i[1:]\n",
    "                if not i == '':\n",
    "                    if i[-1] == ' ':\n",
    "                        i = i[:-1]\n",
    "                    a.append(i)\n",
    "            return a\n",
    "    else:\n",
    "        return x[col]"
   ]
  },
  {
   "cell_type": "code",
   "execution_count": 59,
   "id": "d782a818-1c45-477a-aff8-849bc0b27603",
   "metadata": {},
   "outputs": [],
   "source": [
    "df['قلب العطر'] = df.apply(toLi, axis=1)"
   ]
  },
  {
   "cell_type": "code",
   "execution_count": 60,
   "id": "0f415e17-c731-4724-8034-6b465f197e5f",
   "metadata": {},
   "outputs": [],
   "source": [
    "#################################################################################"
   ]
  },
  {
   "cell_type": "code",
   "execution_count": 61,
   "id": "fa4714f5-be86-4938-8779-c2a441de23a8",
   "metadata": {},
   "outputs": [],
   "source": [
    "def toLi(x):\n",
    "    col = 'قاعدة العطر'\n",
    "    if not pd.isna(x[col]):\n",
    "        x[col].replace('.', '')\n",
    "        if '،' in x[col]:\n",
    "            x = x[col].split('،')\n",
    "            a = []\n",
    "            for i in x:\n",
    "                if not i == '':\n",
    "                    if i[0] == ' ':\n",
    "                        i = i[1:]\n",
    "                if not i == '':\n",
    "                    if i[-1] == ' ':\n",
    "                        i = i[:-1]\n",
    "                    a.append(i)\n",
    "            return a\n",
    "        elif ',' in x[col]:\n",
    "            x = x[col].split(',')\n",
    "            a = []\n",
    "            for i in x:\n",
    "                if not i == '':\n",
    "                    if i[0] == ' ':\n",
    "                        i = i[1:]\n",
    "                if not i == '':\n",
    "                    if i[-1] == ' ':\n",
    "                        i = i[:-1]\n",
    "                    a.append(i)\n",
    "            return a\n",
    "        else:\n",
    "            x = x[col].split()\n",
    "            a = []\n",
    "            for i in x:\n",
    "                if not i == '':\n",
    "                    if i[0] == ' ':\n",
    "                        i = i[1:]\n",
    "                if not i == '':\n",
    "                    if i[-1] == ' ':\n",
    "                        i = i[:-1]\n",
    "                    a.append(i)\n",
    "            return a\n",
    "    else:\n",
    "        return x[col]"
   ]
  },
  {
   "cell_type": "code",
   "execution_count": 62,
   "id": "1355d710-d68d-4f0f-a1c0-f6c3ae0c8709",
   "metadata": {},
   "outputs": [],
   "source": [
    "df['قاعدة العطر'] = df.apply(toLi, axis=1)"
   ]
  },
  {
   "cell_type": "code",
   "execution_count": 63,
   "id": "314fd356-5308-47a7-aef3-39a4afa8e9df",
   "metadata": {},
   "outputs": [],
   "source": [
    "#################################################################################"
   ]
  },
  {
   "cell_type": "code",
   "execution_count": 64,
   "id": "56b9b2c4-70d1-4065-8909-0bb0dff2bdc7",
   "metadata": {},
   "outputs": [],
   "source": [
    "def toLi(x):\n",
    "    col = 'المكونات'\n",
    "    if not pd.isna(x[col]):\n",
    "        x[col].replace('.', '')\n",
    "        if '،' in x[col]:\n",
    "            x = x[col].split('،')\n",
    "            a = []\n",
    "            for i in x:\n",
    "                if not i == '':\n",
    "                    if i[0] == ' ':\n",
    "                        i = i[1:]\n",
    "                if not i == '':\n",
    "                    if i[-1] == ' ':\n",
    "                        i = i[:-1]\n",
    "                    a.append(i)\n",
    "            return a\n",
    "        elif ',' in x[col]:\n",
    "            x = x[col].split(',')\n",
    "            a = []\n",
    "            for i in x:\n",
    "                if not i == '':\n",
    "                    if i[0] == ' ':\n",
    "                        i = i[1:]\n",
    "                if not i == '':\n",
    "                    if i[-1] == ' ':\n",
    "                        i = i[:-1]\n",
    "                    a.append(i)\n",
    "            return a\n",
    "        else:\n",
    "            x = x[col].split()\n",
    "            a = []\n",
    "            for i in x:\n",
    "                if not i == '':\n",
    "                    if i[0] == ' ':\n",
    "                        i = i[1:]\n",
    "                if not i == '':\n",
    "                    if i[-1] == ' ':\n",
    "                        i = i[:-1]\n",
    "                    a.append(i)\n",
    "            return a\n",
    "    else:\n",
    "        return x[col]"
   ]
  },
  {
   "cell_type": "code",
   "execution_count": 65,
   "id": "07b02ab4-5caf-42e0-a8eb-c0ae39a061f9",
   "metadata": {},
   "outputs": [],
   "source": [
    "df['المكونات'] = df.apply(toLi, axis=1)"
   ]
  },
  {
   "cell_type": "code",
   "execution_count": 66,
   "id": "631ebd43-2513-44f6-9a49-421253284562",
   "metadata": {},
   "outputs": [],
   "source": [
    "#################################################################################"
   ]
  },
  {
   "cell_type": "code",
   "execution_count": 67,
   "id": "7d5f656a-90db-4c6f-97ba-a2fa6122b665",
   "metadata": {},
   "outputs": [],
   "source": [
    "df['المكونات'].fillna(False, inplace=True)"
   ]
  },
  {
   "cell_type": "code",
   "execution_count": 68,
   "id": "ce0b742f-1243-4bd9-9035-a14e9bb3cd3c",
   "metadata": {},
   "outputs": [],
   "source": [
    "df['مقدمة العطر'].fillna(False, inplace=True)"
   ]
  },
  {
   "cell_type": "code",
   "execution_count": 69,
   "id": "f54d31bc-62a8-42b8-802d-db6e52dacc20",
   "metadata": {},
   "outputs": [],
   "source": [
    "df['قلب العطر'].fillna(False, inplace=True)"
   ]
  },
  {
   "cell_type": "code",
   "execution_count": 70,
   "id": "ad446402-e7b7-4553-8f2e-a1c7b6d0f741",
   "metadata": {},
   "outputs": [],
   "source": [
    "df['قاعدة العطر'].fillna(False, inplace=True)"
   ]
  },
  {
   "cell_type": "code",
   "execution_count": 71,
   "id": "3a66bfe0-6c30-4c5f-bd3e-8ecb490d5f33",
   "metadata": {},
   "outputs": [],
   "source": [
    "#################################################################################"
   ]
  },
  {
   "cell_type": "code",
   "execution_count": 72,
   "id": "1eaebeb0-14ff-4cbb-870e-9ff9080f9aa9",
   "metadata": {},
   "outputs": [],
   "source": [
    "df = df.reset_index(drop=True)"
   ]
  },
  {
   "cell_type": "code",
   "execution_count": 73,
   "id": "e7bd6f1e-c866-4cab-9724-a0ed20643f21",
   "metadata": {},
   "outputs": [],
   "source": [
    "#################################################################################"
   ]
  },
  {
   "cell_type": "code",
   "execution_count": 74,
   "id": "4a6179f7-cfad-4c12-a180-d4ce4338a3b1",
   "metadata": {},
   "outputs": [],
   "source": [
    "for ind in df.index:\n",
    "    row = df.loc[ind, ['المكونات', 'مقدمة العطر', 'قلب العطر', 'قاعدة العطر']]\n",
    "    if not row['المكونات']:\n",
    "        if row['قاعدة العطر'] and row['قلب العطر'] and row['مقدمة العطر']:\n",
    "            result = row['قاعدة العطر'] + row['قلب العطر'] + row['مقدمة العطر']\n",
    "            df.at[ind,'المكونات'] = result"
   ]
  },
  {
   "cell_type": "code",
   "execution_count": 75,
   "id": "fc80a310-4a22-46db-be3f-691924a96c95",
   "metadata": {},
   "outputs": [],
   "source": [
    "#################################################################################"
   ]
  },
  {
   "cell_type": "code",
   "execution_count": 76,
   "id": "1432f8a6-1b3b-45a9-89f1-e1091d153d7a",
   "metadata": {
    "scrolled": true
   },
   "outputs": [],
   "source": [
    "mask = df[df['المكونات'] == False].index"
   ]
  },
  {
   "cell_type": "code",
   "execution_count": 77,
   "id": "123adce6-c377-4cc6-be95-c46973530b55",
   "metadata": {
    "scrolled": true
   },
   "outputs": [],
   "source": [
    "df.drop(mask , inplace=True)"
   ]
  },
  {
   "cell_type": "code",
   "execution_count": 160,
   "id": "1f1897a0-d731-4a03-ac77-60b3f231f35f",
   "metadata": {},
   "outputs": [
    {
     "data": {
      "text/html": [
       "<div>\n",
       "<style scoped>\n",
       "    .dataframe tbody tr th:only-of-type {\n",
       "        vertical-align: middle;\n",
       "    }\n",
       "\n",
       "    .dataframe tbody tr th {\n",
       "        vertical-align: top;\n",
       "    }\n",
       "\n",
       "    .dataframe thead th {\n",
       "        text-align: right;\n",
       "    }\n",
       "</style>\n",
       "<table border=\"1\" class=\"dataframe\">\n",
       "  <thead>\n",
       "    <tr style=\"text-align: right;\">\n",
       "      <th></th>\n",
       "      <th>الاسم</th>\n",
       "      <th>السعر النهائي</th>\n",
       "      <th>الماركة</th>\n",
       "      <th>الجنس</th>\n",
       "      <th>شخصية عطرك</th>\n",
       "      <th>العائلة العطرية</th>\n",
       "      <th>الحجم</th>\n",
       "      <th>نسبة التركيز</th>\n",
       "      <th>مقدمة العطر</th>\n",
       "      <th>قلب العطر</th>\n",
       "      <th>قاعدة العطر</th>\n",
       "      <th>المكونات</th>\n",
       "    </tr>\n",
       "  </thead>\n",
       "  <tbody>\n",
       "    <tr>\n",
       "      <th>0</th>\n",
       "      <td>كورلوف كوير ميثيك أو دو برفيوم</td>\n",
       "      <td>1116</td>\n",
       "      <td>كورلوف</td>\n",
       "      <td>3</td>\n",
       "      <td>17</td>\n",
       "      <td>10</td>\n",
       "      <td>100 مل</td>\n",
       "      <td>1</td>\n",
       "      <td>[الماندرين, الصنوبر, العرعر]</td>\n",
       "      <td>[الزنجبيل, الجلابانوم, السوسن]</td>\n",
       "      <td>[الجلود]</td>\n",
       "      <td>[الجلود, الزنجبيل, الجلابانوم, السوسن, الماندر...</td>\n",
       "    </tr>\n",
       "    <tr>\n",
       "      <th>1</th>\n",
       "      <td>كالفين كلاين ايفوريا ومن</td>\n",
       "      <td>298</td>\n",
       "      <td>كالفن كلاين</td>\n",
       "      <td>4</td>\n",
       "      <td>11</td>\n",
       "      <td>36</td>\n",
       "      <td>50 مل</td>\n",
       "      <td>1</td>\n",
       "      <td>[رمان]</td>\n",
       "      <td>[لوتس بلوسوم, بلاك أوركيد]</td>\n",
       "      <td>[عنبر, خشب]</td>\n",
       "      <td>[رمان, لوتس بلوسوم, بلاك أوركيد, عنبر, خشب]</td>\n",
       "    </tr>\n",
       "    <tr>\n",
       "      <th>2</th>\n",
       "      <td>قراس للعطور عود ذا بالاس أو دو برفيوم - 30 مل</td>\n",
       "      <td>159</td>\n",
       "      <td>قراس للعطور</td>\n",
       "      <td>3</td>\n",
       "      <td>17</td>\n",
       "      <td>10</td>\n",
       "      <td>30 مل</td>\n",
       "      <td>1</td>\n",
       "      <td>[زيت الورد, الورد البلغاري]</td>\n",
       "      <td>[القرفة]</td>\n",
       "      <td>[الجلود, أخشاب الصندل]</td>\n",
       "      <td>[الجلود, أخشاب الصندل, القرفة, زيت الورد, الور...</td>\n",
       "    </tr>\n",
       "    <tr>\n",
       "      <th>3</th>\n",
       "      <td>ماركو سيروسي هارموني</td>\n",
       "      <td>333</td>\n",
       "      <td>ماركو سيروسي</td>\n",
       "      <td>2</td>\n",
       "      <td>8</td>\n",
       "      <td>32</td>\n",
       "      <td>100 مل</td>\n",
       "      <td>3</td>\n",
       "      <td>[فلفل الأسود, هيل, كمون.]</td>\n",
       "      <td>[جوزة الطيب, زهر البرتقال, شمام]</td>\n",
       "      <td>[باتشولي, نجيل الهند.]</td>\n",
       "      <td>[الفلفل الأسود, هيل, كمون, جوزة الطيب, زهر الب...</td>\n",
       "    </tr>\n",
       "    <tr>\n",
       "      <th>4</th>\n",
       "      <td>لورينزو فيلوريسي أومو</td>\n",
       "      <td>629</td>\n",
       "      <td>لورينزو فيلوريسي فيرنزي</td>\n",
       "      <td>2</td>\n",
       "      <td>11</td>\n",
       "      <td>2</td>\n",
       "      <td>100 مل</td>\n",
       "      <td>3</td>\n",
       "      <td>[أوراق الغار, البتيتغرين, البرغموت, الليمون ال...</td>\n",
       "      <td>[العرعر, المريمية, زهر البرتقال, القرنفل, الفل...</td>\n",
       "      <td>[خشب الصندل, الباتشولي, المسك, نجيل الهند, طحل...</td>\n",
       "      <td>[أوراق الغار, البتيتغرين, البرغموت, الليمون ال...</td>\n",
       "    </tr>\n",
       "    <tr>\n",
       "      <th>...</th>\n",
       "      <td>...</td>\n",
       "      <td>...</td>\n",
       "      <td>...</td>\n",
       "      <td>...</td>\n",
       "      <td>...</td>\n",
       "      <td>...</td>\n",
       "      <td>...</td>\n",
       "      <td>...</td>\n",
       "      <td>...</td>\n",
       "      <td>...</td>\n",
       "      <td>...</td>\n",
       "      <td>...</td>\n",
       "    </tr>\n",
       "    <tr>\n",
       "      <th>8137</th>\n",
       "      <td>أورينتيكا لوكسري كوليكشن عود سافرون أو دو برفيوم</td>\n",
       "      <td>474</td>\n",
       "      <td>أورينتيكا</td>\n",
       "      <td>3</td>\n",
       "      <td>20</td>\n",
       "      <td>13</td>\n",
       "      <td>80 مل</td>\n",
       "      <td>1</td>\n",
       "      <td>[الفانيليا]</td>\n",
       "      <td>[الزعفران, الباتشولي]</td>\n",
       "      <td>[المسك, خشب الغاياك, خشب العود]</td>\n",
       "      <td>[المسك, خشب الغاياك, خشب العود, الزعفران, البا...</td>\n",
       "    </tr>\n",
       "    <tr>\n",
       "      <th>8138</th>\n",
       "      <td>سلفاتوري فيراغامو توسكان سويل كونفوا</td>\n",
       "      <td>754</td>\n",
       "      <td>سلفاتوري فيراغامو</td>\n",
       "      <td>3</td>\n",
       "      <td>20</td>\n",
       "      <td>12</td>\n",
       "      <td>75 مل</td>\n",
       "      <td>3</td>\n",
       "      <td>[الجريب فروت, بذور الجزر]</td>\n",
       "      <td>[السرو, الياسمين Petals]</td>\n",
       "      <td>[امبروكسان, الكشمير]</td>\n",
       "      <td>[بذور الجزر, الجريب فروت, السرو, الياسمين, امب...</td>\n",
       "    </tr>\n",
       "    <tr>\n",
       "      <th>8139</th>\n",
       "      <td>مونتال داي دريمز</td>\n",
       "      <td>426</td>\n",
       "      <td>مونتال</td>\n",
       "      <td>3</td>\n",
       "      <td>11</td>\n",
       "      <td>20</td>\n",
       "      <td>100 مل</td>\n",
       "      <td>1</td>\n",
       "      <td>[برتقال الماندرين, زهر البرتقال, الياسمين]</td>\n",
       "      <td>[زهر البرتقال, زهرة تياري, خشب الصندل]</td>\n",
       "      <td>[الفانيليا, جوز الهند]</td>\n",
       "      <td>[برتقال الماندرين, زهر البرتقال, زهرة تياري, ا...</td>\n",
       "    </tr>\n",
       "    <tr>\n",
       "      <th>8140</th>\n",
       "      <td>شكسبير لوفرز كومبلين أو دو برفيوم</td>\n",
       "      <td>569</td>\n",
       "      <td>شكسبير برفيوم</td>\n",
       "      <td>3</td>\n",
       "      <td>11</td>\n",
       "      <td>2</td>\n",
       "      <td>100 مل</td>\n",
       "      <td>1</td>\n",
       "      <td>False</td>\n",
       "      <td>False</td>\n",
       "      <td>False</td>\n",
       "      <td>[التوت, فول التونكا, جلد, العنبر]</td>\n",
       "    </tr>\n",
       "    <tr>\n",
       "      <th>8141</th>\n",
       "      <td>هتان مسك الرمان أو دو برفيوم</td>\n",
       "      <td>140</td>\n",
       "      <td>هتان</td>\n",
       "      <td>3</td>\n",
       "      <td>11</td>\n",
       "      <td>36</td>\n",
       "      <td>50 مل</td>\n",
       "      <td>1</td>\n",
       "      <td>False</td>\n",
       "      <td>False</td>\n",
       "      <td>False</td>\n",
       "      <td>[حبوب التونكا, الفانيليا, الرمان.]</td>\n",
       "    </tr>\n",
       "  </tbody>\n",
       "</table>\n",
       "<p>7806 rows × 12 columns</p>\n",
       "</div>"
      ],
      "text/plain": [
       "                                                 الاسم  السعر النهائي  \\\n",
       "0                       كورلوف كوير ميثيك أو دو برفيوم           1116   \n",
       "1                             كالفين كلاين ايفوريا ومن            298   \n",
       "2        قراس للعطور عود ذا بالاس أو دو برفيوم - 30 مل            159   \n",
       "3                                 ماركو سيروسي هارموني            333   \n",
       "4                                لورينزو فيلوريسي أومو            629   \n",
       "...                                                ...            ...   \n",
       "8137  أورينتيكا لوكسري كوليكشن عود سافرون أو دو برفيوم            474   \n",
       "8138              سلفاتوري فيراغامو توسكان سويل كونفوا            754   \n",
       "8139                                  مونتال داي دريمز            426   \n",
       "8140                 شكسبير لوفرز كومبلين أو دو برفيوم            569   \n",
       "8141                      هتان مسك الرمان أو دو برفيوم            140   \n",
       "\n",
       "                      الماركة  الجنس  شخصية عطرك  العائلة العطرية   الحجم  \\\n",
       "0                      كورلوف      3          17               10  100 مل   \n",
       "1                 كالفن كلاين      4          11               36   50 مل   \n",
       "2                 قراس للعطور      3          17               10   30 مل   \n",
       "3                ماركو سيروسي      2           8               32  100 مل   \n",
       "4     لورينزو فيلوريسي فيرنزي      2          11                2  100 مل   \n",
       "...                       ...    ...         ...              ...     ...   \n",
       "8137                أورينتيكا      3          20               13   80 مل   \n",
       "8138        سلفاتوري فيراغامو      3          20               12   75 مل   \n",
       "8139                   مونتال      3          11               20  100 مل   \n",
       "8140            شكسبير برفيوم      3          11                2  100 مل   \n",
       "8141                     هتان      3          11               36   50 مل   \n",
       "\n",
       "      نسبة التركيز                                        مقدمة العطر  \\\n",
       "0                1                       [الماندرين, الصنوبر, العرعر]   \n",
       "1                1                                             [رمان]   \n",
       "2                1                        [زيت الورد, الورد البلغاري]   \n",
       "3                3                          [فلفل الأسود, هيل, كمون.]   \n",
       "4                3  [أوراق الغار, البتيتغرين, البرغموت, الليمون ال...   \n",
       "...            ...                                                ...   \n",
       "8137             1                                        [الفانيليا]   \n",
       "8138             3                          [الجريب فروت, بذور الجزر]   \n",
       "8139             1         [برتقال الماندرين, زهر البرتقال, الياسمين]   \n",
       "8140             1                                              False   \n",
       "8141             1                                              False   \n",
       "\n",
       "                                              قلب العطر  \\\n",
       "0                        [الزنجبيل, الجلابانوم, السوسن]   \n",
       "1                            [لوتس بلوسوم, بلاك أوركيد]   \n",
       "2                                              [القرفة]   \n",
       "3                      [جوزة الطيب, زهر البرتقال, شمام]   \n",
       "4     [العرعر, المريمية, زهر البرتقال, القرنفل, الفل...   \n",
       "...                                                 ...   \n",
       "8137                              [الزعفران, الباتشولي]   \n",
       "8138                           [السرو, الياسمين Petals]   \n",
       "8139             [زهر البرتقال, زهرة تياري, خشب الصندل]   \n",
       "8140                                              False   \n",
       "8141                                              False   \n",
       "\n",
       "                                            قاعدة العطر  \\\n",
       "0                                              [الجلود]   \n",
       "1                                           [عنبر, خشب]   \n",
       "2                                [الجلود, أخشاب الصندل]   \n",
       "3                                [باتشولي, نجيل الهند.]   \n",
       "4     [خشب الصندل, الباتشولي, المسك, نجيل الهند, طحل...   \n",
       "...                                                 ...   \n",
       "8137                    [المسك, خشب الغاياك, خشب العود]   \n",
       "8138                               [امبروكسان, الكشمير]   \n",
       "8139                             [الفانيليا, جوز الهند]   \n",
       "8140                                              False   \n",
       "8141                                              False   \n",
       "\n",
       "                                               المكونات  \n",
       "0     [الجلود, الزنجبيل, الجلابانوم, السوسن, الماندر...  \n",
       "1           [رمان, لوتس بلوسوم, بلاك أوركيد, عنبر, خشب]  \n",
       "2     [الجلود, أخشاب الصندل, القرفة, زيت الورد, الور...  \n",
       "3     [الفلفل الأسود, هيل, كمون, جوزة الطيب, زهر الب...  \n",
       "4     [أوراق الغار, البتيتغرين, البرغموت, الليمون ال...  \n",
       "...                                                 ...  \n",
       "8137  [المسك, خشب الغاياك, خشب العود, الزعفران, البا...  \n",
       "8138  [بذور الجزر, الجريب فروت, السرو, الياسمين, امب...  \n",
       "8139  [برتقال الماندرين, زهر البرتقال, زهرة تياري, ا...  \n",
       "8140                  [التوت, فول التونكا, جلد, العنبر]  \n",
       "8141                 [حبوب التونكا, الفانيليا, الرمان.]  \n",
       "\n",
       "[7806 rows x 12 columns]"
      ]
     },
     "execution_count": 160,
     "metadata": {},
     "output_type": "execute_result"
    }
   ],
   "source": [
    "df"
   ]
  },
  {
   "cell_type": "code",
   "execution_count": null,
   "id": "2f3d2212-8785-4f93-afc3-151e13ed195b",
   "metadata": {},
   "outputs": [],
   "source": []
  },
  {
   "cell_type": "code",
   "execution_count": null,
   "id": "b8c399de-233d-4b36-8f96-803c1ea0634b",
   "metadata": {},
   "outputs": [],
   "source": []
  }
 ],
 "metadata": {
  "kernelspec": {
   "display_name": "Python 3 (ipykernel)",
   "language": "python",
   "name": "python3"
  },
  "language_info": {
   "codemirror_mode": {
    "name": "ipython",
    "version": 3
   },
   "file_extension": ".py",
   "mimetype": "text/x-python",
   "name": "python",
   "nbconvert_exporter": "python",
   "pygments_lexer": "ipython3",
   "version": "3.11.7"
  }
 },
 "nbformat": 4,
 "nbformat_minor": 5
}
